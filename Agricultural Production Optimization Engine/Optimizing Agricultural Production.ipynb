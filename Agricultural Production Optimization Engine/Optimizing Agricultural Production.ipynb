{
 "cells": [
  {
   "cell_type": "code",
   "execution_count": 17,
   "id": "27e15006",
   "metadata": {},
   "outputs": [],
   "source": [
    "#for data manipulations\n",
    "import numpy as np\n",
    "import pandas as pd\n",
    "\n",
    "#for data visualizations\n",
    "import seaborn as sns\n",
    "import matplotlib.pyplot as plt\n",
    "\n",
    "#for interactivity \n",
    "from ipywidgets import interact\n",
    "\n",
    "import sklearn"
   ]
  },
  {
   "cell_type": "markdown",
   "id": "17f617e1",
   "metadata": {},
   "source": [
    "## Exploratory Analysis"
   ]
  },
  {
   "cell_type": "code",
   "execution_count": 2,
   "id": "13d9aa19",
   "metadata": {},
   "outputs": [],
   "source": [
    "# to read dataset\n",
    "\n",
    "data=pd.read_csv(\"data.csv\")"
   ]
  },
  {
   "cell_type": "code",
   "execution_count": 3,
   "id": "d21185bc",
   "metadata": {},
   "outputs": [
    {
     "name": "stdout",
     "output_type": "stream",
     "text": [
      "Shape of the dataset :  (2200, 8)\n"
     ]
    }
   ],
   "source": [
    "# check the shape of the dataset\n",
    "print(\"Shape of the dataset : \",data.shape)"
   ]
  },
  {
   "cell_type": "code",
   "execution_count": 4,
   "id": "6cf0eebd",
   "metadata": {},
   "outputs": [
    {
     "data": {
      "text/html": [
       "<div>\n",
       "<style scoped>\n",
       "    .dataframe tbody tr th:only-of-type {\n",
       "        vertical-align: middle;\n",
       "    }\n",
       "\n",
       "    .dataframe tbody tr th {\n",
       "        vertical-align: top;\n",
       "    }\n",
       "\n",
       "    .dataframe thead th {\n",
       "        text-align: right;\n",
       "    }\n",
       "</style>\n",
       "<table border=\"1\" class=\"dataframe\">\n",
       "  <thead>\n",
       "    <tr style=\"text-align: right;\">\n",
       "      <th></th>\n",
       "      <th>N</th>\n",
       "      <th>P</th>\n",
       "      <th>K</th>\n",
       "      <th>temperature</th>\n",
       "      <th>humidity</th>\n",
       "      <th>ph</th>\n",
       "      <th>rainfall</th>\n",
       "      <th>label</th>\n",
       "    </tr>\n",
       "  </thead>\n",
       "  <tbody>\n",
       "    <tr>\n",
       "      <th>0</th>\n",
       "      <td>90</td>\n",
       "      <td>42</td>\n",
       "      <td>43</td>\n",
       "      <td>20.879744</td>\n",
       "      <td>82.002744</td>\n",
       "      <td>6.502985</td>\n",
       "      <td>202.935536</td>\n",
       "      <td>rice</td>\n",
       "    </tr>\n",
       "    <tr>\n",
       "      <th>1</th>\n",
       "      <td>85</td>\n",
       "      <td>58</td>\n",
       "      <td>41</td>\n",
       "      <td>21.770462</td>\n",
       "      <td>80.319644</td>\n",
       "      <td>7.038096</td>\n",
       "      <td>226.655537</td>\n",
       "      <td>rice</td>\n",
       "    </tr>\n",
       "    <tr>\n",
       "      <th>2</th>\n",
       "      <td>60</td>\n",
       "      <td>55</td>\n",
       "      <td>44</td>\n",
       "      <td>23.004459</td>\n",
       "      <td>82.320763</td>\n",
       "      <td>7.840207</td>\n",
       "      <td>263.964248</td>\n",
       "      <td>rice</td>\n",
       "    </tr>\n",
       "    <tr>\n",
       "      <th>3</th>\n",
       "      <td>74</td>\n",
       "      <td>35</td>\n",
       "      <td>40</td>\n",
       "      <td>26.491096</td>\n",
       "      <td>80.158363</td>\n",
       "      <td>6.980401</td>\n",
       "      <td>242.864034</td>\n",
       "      <td>rice</td>\n",
       "    </tr>\n",
       "    <tr>\n",
       "      <th>4</th>\n",
       "      <td>78</td>\n",
       "      <td>42</td>\n",
       "      <td>42</td>\n",
       "      <td>20.130175</td>\n",
       "      <td>81.604873</td>\n",
       "      <td>7.628473</td>\n",
       "      <td>262.717340</td>\n",
       "      <td>rice</td>\n",
       "    </tr>\n",
       "  </tbody>\n",
       "</table>\n",
       "</div>"
      ],
      "text/plain": [
       "    N   P   K  temperature   humidity        ph    rainfall label\n",
       "0  90  42  43    20.879744  82.002744  6.502985  202.935536  rice\n",
       "1  85  58  41    21.770462  80.319644  7.038096  226.655537  rice\n",
       "2  60  55  44    23.004459  82.320763  7.840207  263.964248  rice\n",
       "3  74  35  40    26.491096  80.158363  6.980401  242.864034  rice\n",
       "4  78  42  42    20.130175  81.604873  7.628473  262.717340  rice"
      ]
     },
     "execution_count": 4,
     "metadata": {},
     "output_type": "execute_result"
    }
   ],
   "source": [
    "data.head()"
   ]
  },
  {
   "cell_type": "code",
   "execution_count": 5,
   "id": "1261258c",
   "metadata": {},
   "outputs": [
    {
     "data": {
      "text/html": [
       "<div>\n",
       "<style scoped>\n",
       "    .dataframe tbody tr th:only-of-type {\n",
       "        vertical-align: middle;\n",
       "    }\n",
       "\n",
       "    .dataframe tbody tr th {\n",
       "        vertical-align: top;\n",
       "    }\n",
       "\n",
       "    .dataframe thead th {\n",
       "        text-align: right;\n",
       "    }\n",
       "</style>\n",
       "<table border=\"1\" class=\"dataframe\">\n",
       "  <thead>\n",
       "    <tr style=\"text-align: right;\">\n",
       "      <th></th>\n",
       "      <th>N</th>\n",
       "      <th>P</th>\n",
       "      <th>K</th>\n",
       "      <th>temperature</th>\n",
       "      <th>humidity</th>\n",
       "      <th>ph</th>\n",
       "      <th>rainfall</th>\n",
       "      <th>label</th>\n",
       "    </tr>\n",
       "  </thead>\n",
       "  <tbody>\n",
       "    <tr>\n",
       "      <th>2195</th>\n",
       "      <td>107</td>\n",
       "      <td>34</td>\n",
       "      <td>32</td>\n",
       "      <td>26.774637</td>\n",
       "      <td>66.413269</td>\n",
       "      <td>6.780064</td>\n",
       "      <td>177.774507</td>\n",
       "      <td>coffee</td>\n",
       "    </tr>\n",
       "    <tr>\n",
       "      <th>2196</th>\n",
       "      <td>99</td>\n",
       "      <td>15</td>\n",
       "      <td>27</td>\n",
       "      <td>27.417112</td>\n",
       "      <td>56.636362</td>\n",
       "      <td>6.086922</td>\n",
       "      <td>127.924610</td>\n",
       "      <td>coffee</td>\n",
       "    </tr>\n",
       "    <tr>\n",
       "      <th>2197</th>\n",
       "      <td>118</td>\n",
       "      <td>33</td>\n",
       "      <td>30</td>\n",
       "      <td>24.131797</td>\n",
       "      <td>67.225123</td>\n",
       "      <td>6.362608</td>\n",
       "      <td>173.322839</td>\n",
       "      <td>coffee</td>\n",
       "    </tr>\n",
       "    <tr>\n",
       "      <th>2198</th>\n",
       "      <td>117</td>\n",
       "      <td>32</td>\n",
       "      <td>34</td>\n",
       "      <td>26.272418</td>\n",
       "      <td>52.127394</td>\n",
       "      <td>6.758793</td>\n",
       "      <td>127.175293</td>\n",
       "      <td>coffee</td>\n",
       "    </tr>\n",
       "    <tr>\n",
       "      <th>2199</th>\n",
       "      <td>104</td>\n",
       "      <td>18</td>\n",
       "      <td>30</td>\n",
       "      <td>23.603016</td>\n",
       "      <td>60.396475</td>\n",
       "      <td>6.779833</td>\n",
       "      <td>140.937041</td>\n",
       "      <td>coffee</td>\n",
       "    </tr>\n",
       "  </tbody>\n",
       "</table>\n",
       "</div>"
      ],
      "text/plain": [
       "        N   P   K  temperature   humidity        ph    rainfall   label\n",
       "2195  107  34  32    26.774637  66.413269  6.780064  177.774507  coffee\n",
       "2196   99  15  27    27.417112  56.636362  6.086922  127.924610  coffee\n",
       "2197  118  33  30    24.131797  67.225123  6.362608  173.322839  coffee\n",
       "2198  117  32  34    26.272418  52.127394  6.758793  127.175293  coffee\n",
       "2199  104  18  30    23.603016  60.396475  6.779833  140.937041  coffee"
      ]
     },
     "execution_count": 5,
     "metadata": {},
     "output_type": "execute_result"
    }
   ],
   "source": [
    "data.tail()"
   ]
  },
  {
   "cell_type": "code",
   "execution_count": 6,
   "id": "56a3965a",
   "metadata": {},
   "outputs": [
    {
     "data": {
      "text/plain": [
       "N              0\n",
       "P              0\n",
       "K              0\n",
       "temperature    0\n",
       "humidity       0\n",
       "ph             0\n",
       "rainfall       0\n",
       "label          0\n",
       "dtype: int64"
      ]
     },
     "execution_count": 6,
     "metadata": {},
     "output_type": "execute_result"
    }
   ],
   "source": [
    "# to check missing value\n",
    "\n",
    "data.isnull().sum()"
   ]
  },
  {
   "cell_type": "markdown",
   "id": "412cc340",
   "metadata": {},
   "source": [
    "### If missing Values\n",
    "- fillna function is used to replace these missing values with statistical values such as: Mean , Median or Mode\n",
    "- Mean =   used when the column contains numerical data\n",
    "- Median = used when the column contains data with outliers\n",
    "- Mode  =  used when the column contains categorical data\n",
    "\n",
    "- pandas have two functions such as fillna and dropna to treat missing values"
   ]
  },
  {
   "cell_type": "code",
   "execution_count": 7,
   "id": "fe19f0b4",
   "metadata": {},
   "outputs": [
    {
     "data": {
      "text/plain": [
       "rice           100\n",
       "maize          100\n",
       "jute           100\n",
       "cotton         100\n",
       "coconut        100\n",
       "papaya         100\n",
       "orange         100\n",
       "apple          100\n",
       "muskmelon      100\n",
       "watermelon     100\n",
       "grapes         100\n",
       "mango          100\n",
       "banana         100\n",
       "pomegranate    100\n",
       "lentil         100\n",
       "blackgram      100\n",
       "mungbean       100\n",
       "mothbeans      100\n",
       "pigeonpeas     100\n",
       "kidneybeans    100\n",
       "chickpea       100\n",
       "coffee         100\n",
       "Name: label, dtype: int64"
      ]
     },
     "execution_count": 7,
     "metadata": {},
     "output_type": "execute_result"
    }
   ],
   "source": [
    "# to check the crops present in the dataset\n",
    "\n",
    "data['label'].value_counts()"
   ]
  },
  {
   "cell_type": "code",
   "execution_count": 8,
   "id": "74757956",
   "metadata": {},
   "outputs": [],
   "source": [
    "data.describe()\n",
    "mean=data.describe()"
   ]
  },
  {
   "cell_type": "code",
   "execution_count": 9,
   "id": "f4835843",
   "metadata": {},
   "outputs": [
    {
     "data": {
      "text/plain": [
       "N               50.551818\n",
       "P               53.362727\n",
       "K               48.149091\n",
       "temperature     25.616244\n",
       "humidity        71.481779\n",
       "ph               6.469480\n",
       "rainfall       103.463655\n",
       "Name: mean, dtype: float64"
      ]
     },
     "execution_count": 9,
     "metadata": {},
     "output_type": "execute_result"
    }
   ],
   "source": [
    "# it gives us the minimum requirements of the soil and climate\n",
    "mean.loc[\"mean\"]  "
   ]
  },
  {
   "cell_type": "code",
   "execution_count": 10,
   "id": "eada4b09",
   "metadata": {},
   "outputs": [
    {
     "data": {
      "application/vnd.jupyter.widget-view+json": {
       "model_id": "a07f8e2ba27f40628ff92545ccee3119",
       "version_major": 2,
       "version_minor": 0
      },
      "text/plain": [
       "interactive(children=(Dropdown(description='crops', options=('rice', 'maize', 'jute', 'cotton', 'coconut', 'pa…"
      ]
     },
     "metadata": {},
     "output_type": "display_data"
    }
   ],
   "source": [
    "# lets the check summary statistics for each of the crops\n",
    "@interact\n",
    "def summary(crops=list(data['label'].value_counts().index)):\n",
    "    x=data[data['label']==crops]   # having all labels\n",
    "    print(\"Statistics for Nitrogen \")\n",
    "    print(\"Minimum Nitrogen required : \",x['N'].min())\n",
    "    print(\"Average Nitrogen required : \",x['N'].mean())\n",
    "    print(\"Maximum Nitrogen required : \",x['N'].max())\n",
    "    print(\"----------------------------\")\n",
    "    print(\"Statistics for Phosphorous \")\n",
    "    print(\"Minimum Phosphorous required : \",x['P'].min())\n",
    "    print(\"Average Phosphorous required : \",x['P'].mean())\n",
    "    print(\"Maximum Phosphorous required : \",x['P'].max())\n",
    "    print(\"----------------------------\")\n",
    "    print(\"Statistics for Potassium \")\n",
    "    print(\"Minimum Potassium required : \",x['K'].min())\n",
    "    print(\"Average Potassium required : \",x['K'].mean())\n",
    "    print(\"Maximum Potassium required : \",x['K'].max())\n",
    "    print(\"----------------------------\")\n",
    "    print(\"Statistics for Temperature \")\n",
    "    print(\"Minimum Temperature required : \",x['temperature'].min())\n",
    "    print(\"Average Temperature required : \",x['temperature'].mean())\n",
    "    print(\"Maximum Temperature required : \",x['temperature'].max())\n",
    "    print(\"----------------------------\")\n",
    "    print(\"Statistics for Humidity \")\n",
    "    print(\"Minimum Humidity required : \",x['humidity'].min())\n",
    "    print(\"Average Humidity required : \",x['humidity'].mean())\n",
    "    print(\"Maximum Humidity required : \",x['humidity'].max())\n",
    "    print(\"----------------------------\")\n",
    "    print(\"Statistics for PH \")\n",
    "    print(\"Minimum PH required : \",x['ph'].min())\n",
    "    print(\"Average PH required : \",x['ph'].mean())\n",
    "    print(\"Maximum PH required : \",x['ph'].max())\n",
    "    print(\"----------------------------\")\n",
    "    print(\"Statistics for Rainfall \")\n",
    "    print(\"Minimum rainfall required : \",x['rainfall'].min())\n",
    "    print(\"Average rainfall required : \",x['rainfall'].mean())\n",
    "    print(\"Maximum rainfall required : \",x['rainfall'].max())\n",
    "    print(\"----------------------------\")\n",
    "    \n",
    "    \n",
    "    \n",
    "    \n",
    "    \n",
    "    "
   ]
  },
  {
   "cell_type": "code",
   "execution_count": 11,
   "id": "8e9d522e",
   "metadata": {},
   "outputs": [
    {
     "data": {
      "text/plain": [
       "Index(['rice', 'maize', 'jute', 'cotton', 'coconut', 'papaya', 'orange',\n",
       "       'apple', 'muskmelon', 'watermelon', 'grapes', 'mango', 'banana',\n",
       "       'pomegranate', 'lentil', 'blackgram', 'mungbean', 'mothbeans',\n",
       "       'pigeonpeas', 'kidneybeans', 'chickpea', 'coffee'],\n",
       "      dtype='object')"
      ]
     },
     "execution_count": 11,
     "metadata": {},
     "output_type": "execute_result"
    }
   ],
   "source": [
    "data['label'].value_counts().index"
   ]
  },
  {
   "cell_type": "code",
   "execution_count": 12,
   "id": "a5dad612",
   "metadata": {},
   "outputs": [
    {
     "data": {
      "application/vnd.jupyter.widget-view+json": {
       "model_id": "472eb7b6bc4547d18a843b784e3f5174",
       "version_major": 2,
       "version_minor": 0
      },
      "text/plain": [
       "interactive(children=(Dropdown(description='conditions', options=('N', 'P', 'K', 'temperature', 'ph', 'humidit…"
      ]
     },
     "metadata": {},
     "output_type": "display_data"
    }
   ],
   "source": [
    "@interact\n",
    "def compare(conditions=[\"N\",\"P\",\"K\",\"temperature\",\"ph\",\"humidity\",\"rainfall\"]):\n",
    "    print(\"Average vlaue for\",conditions,\"is {:0.2f}\".format(data[conditions].mean()))\n",
    "    print(\"------------------------------------------\")\n",
    "    print(\"Rice : {:.2f}\".format(data[(data['label']==\"rice\")][conditions].mean()))\n",
    "    print(\"Maize : {:.2f}\".format(data[data['label']=='maize'][conditions].mean()))\n",
    "    print(\"Jute : {:.2f}\".format(data[data['label']=='jute'][conditions].mean()))\n",
    "    print(\"Cotton : {:.2f}\".format(data[data['label']=='cotton'][conditions].mean()))\n",
    "    print(\"Coconut : {:.2f}\".format(data[data['label']=='coconut'][conditions].mean()))\n",
    "    print(\"Papaya : {:.2f}\".format(data[data['label']==\"papaya\"][conditions].mean()))\n",
    "    print(\"Orange : {:.2f}\".format(data[data['label']=='orange'][conditions].mean()))\n",
    "    print(\"Apple : {:.2f}\".format(data[data['label']=='apple'][conditions].mean()))\n",
    "    print(\"Muskmelon : {:.2f}\".format(data[data['label']=='muskmelon'][conditions].mean()))\n",
    "    print(\"Watermelon : {:.2f}\".format(data[data['label']=='watermelon'][conditions].mean()))\n",
    "    print(\"Grapes : {:.2f}\".format(data[data['label']=='grapes'][conditions].mean()))\n",
    "    print(\"Mango : {:.2f}\".format(data[data['label']=='mango'][conditions].mean()))\n",
    "    print(\"Banana : {:.2f}\".format(data[data['label']=='banana'][conditions].mean()))\n",
    "    print(\"Pomegranate : {:.2f}\".format(data[data['label']=='pomegranate'][conditions].mean()))\n",
    "    print(\"Lentil : {:.2f}\".format(data[data['label']=='lentil'][conditions].mean()))\n",
    "    print(\"Blackgram : {:.2f}\".format(data[data['label']=='blackgram'][conditions].mean()))\n",
    "    print(\"Mungbean : {:.2f}\".format(data[data['label']=='mungbean'][conditions].mean()))\n",
    "    print(\"Mothbeans : {:.2f}\".format(data[data['label']=='mothbeans'][conditions].mean()))\n",
    "    print(\"Pigeopeas :{:.2f}\".format(data[data['label']=='pigeonpeas'][conditions].mean()))\n",
    "    print(\"Kidneybeans :{:.2f}\".format(data[data['label']=='kidneybeans'][conditions].mean()))\n",
    "    print(\"Chickpea : {:.2f}\".format(data[data['label']=='chickpea'][conditions].mean()))\n",
    "    print(\"Coffee : {:.2f}\".format(data[data['label']=='coffee'][conditions].mean()))"
   ]
  },
  {
   "cell_type": "code",
   "execution_count": 13,
   "id": "4f5360b9",
   "metadata": {},
   "outputs": [
    {
     "data": {
      "application/vnd.jupyter.widget-view+json": {
       "model_id": "56b545b2205849748c96b8d4ef00cab8",
       "version_major": 2,
       "version_minor": 0
      },
      "text/plain": [
       "interactive(children=(Dropdown(description='conditions', options=('N', 'P', 'K', 'temperature', 'ph', 'humidit…"
      ]
     },
     "metadata": {},
     "output_type": "display_data"
    }
   ],
   "source": [
    "@interact\n",
    "\n",
    "def compare(conditions=['N','P','K','temperature','ph','humidity','rainfall']):\n",
    "    print(\"Crops which require greater than average \",conditions,'\\n')\n",
    "    print(data[data[conditions]>data[conditions].mean()]['label'].unique())\n",
    "    print(\"Crops which requre less than average\",conditions,\"\\n\")\n",
    "    print(data[data[conditions]<data[conditions].mean()]['label'].unique())"
   ]
  },
  {
   "cell_type": "code",
   "execution_count": 14,
   "id": "52cdf0d4",
   "metadata": {},
   "outputs": [
    {
     "name": "stderr",
     "output_type": "stream",
     "text": [
      "C:\\Users\\umair\\anaconda3\\envs\\homework_env\\lib\\site-packages\\seaborn\\distributions.py:2619: FutureWarning: `distplot` is a deprecated function and will be removed in a future version. Please adapt your code to use either `displot` (a figure-level function with similar flexibility) or `histplot` (an axes-level function for histograms).\n",
      "  warnings.warn(msg, FutureWarning)\n",
      "C:\\Users\\umair\\anaconda3\\envs\\homework_env\\lib\\site-packages\\seaborn\\distributions.py:2619: FutureWarning: `distplot` is a deprecated function and will be removed in a future version. Please adapt your code to use either `displot` (a figure-level function with similar flexibility) or `histplot` (an axes-level function for histograms).\n",
      "  warnings.warn(msg, FutureWarning)\n",
      "C:\\Users\\umair\\anaconda3\\envs\\homework_env\\lib\\site-packages\\seaborn\\distributions.py:2619: FutureWarning: `distplot` is a deprecated function and will be removed in a future version. Please adapt your code to use either `displot` (a figure-level function with similar flexibility) or `histplot` (an axes-level function for histograms).\n",
      "  warnings.warn(msg, FutureWarning)\n",
      "C:\\Users\\umair\\anaconda3\\envs\\homework_env\\lib\\site-packages\\seaborn\\distributions.py:2619: FutureWarning: `distplot` is a deprecated function and will be removed in a future version. Please adapt your code to use either `displot` (a figure-level function with similar flexibility) or `histplot` (an axes-level function for histograms).\n",
      "  warnings.warn(msg, FutureWarning)\n",
      "C:\\Users\\umair\\anaconda3\\envs\\homework_env\\lib\\site-packages\\seaborn\\distributions.py:2619: FutureWarning: `distplot` is a deprecated function and will be removed in a future version. Please adapt your code to use either `displot` (a figure-level function with similar flexibility) or `histplot` (an axes-level function for histograms).\n",
      "  warnings.warn(msg, FutureWarning)\n",
      "C:\\Users\\umair\\anaconda3\\envs\\homework_env\\lib\\site-packages\\seaborn\\distributions.py:2619: FutureWarning: `distplot` is a deprecated function and will be removed in a future version. Please adapt your code to use either `displot` (a figure-level function with similar flexibility) or `histplot` (an axes-level function for histograms).\n",
      "  warnings.warn(msg, FutureWarning)\n",
      "C:\\Users\\umair\\anaconda3\\envs\\homework_env\\lib\\site-packages\\seaborn\\distributions.py:2619: FutureWarning: `distplot` is a deprecated function and will be removed in a future version. Please adapt your code to use either `displot` (a figure-level function with similar flexibility) or `histplot` (an axes-level function for histograms).\n",
      "  warnings.warn(msg, FutureWarning)\n"
     ]
    },
    {
     "data": {
      "image/png": "[encoded data removed]",
      "text/plain": [
       "<Figure size 1152x576 with 7 Axes>"
      ]
     },
     "metadata": {
      "needs_background": "light"
     },
     "output_type": "display_data"
    }
   ],
   "source": [
    "fig = plt.figure(figsize=(16,8))\n",
    "plt.subplots_adjust(left=0.125, bottom= 0.1 , right=0.9, top=0.9, wspace=0.5, hspace=0.2)\n",
    "\n",
    "plt.suptitle(\"Distribution For Agriculture Conditions\",fontsize=20)\n",
    "\n",
    "plt.subplot(2,4,1)\n",
    "sns.distplot(data['N'],color='r')\n",
    "plt.xlabel(\"Ratio of Nitrogen\",fontsize=12)\n",
    "plt.grid()\n",
    "\n",
    "plt.subplot(2,4,2)\n",
    "sns.distplot(data['P'],color='b')\n",
    "plt.xlabel(\"Ratio of Phosphorous\",fontsize=12)\n",
    "plt.grid()\n",
    "\n",
    "plt.subplot(2,4,3)\n",
    "sns.distplot(data['K'],color='black')\n",
    "plt.xlabel(\"Ratio of Potassium\",fontsize=12)\n",
    "plt.grid()\n",
    "\n",
    "plt.subplot(2,4,4)\n",
    "sns.distplot(data['temperature'],color='skyblue')\n",
    "plt.xlabel(\"Temperature\",fontsize=12)\n",
    "plt.grid()\n",
    "\n",
    "plt.subplot(2,4,5)\n",
    "sns.distplot(data['rainfall'],color='brown')\n",
    "plt.xlabel(\"Rainfall\",fontsize=12)\n",
    "plt.grid()\n",
    "\n",
    "plt.subplot(2,4,6)\n",
    "sns.distplot(data['humidity'],color='green')\n",
    "plt.xlabel(\"Humidity\",fontsize=12)\n",
    "plt.grid()\n",
    "\n",
    "plt.subplot(2,4,7)\n",
    "sns.distplot(data['ph'],color='lightgreen')\n",
    "plt.xlabel(\"PH\",fontsize=12)\n",
    "plt.grid()"
   ]
  },
  {
   "cell_type": "code",
   "execution_count": 15,
   "id": "9b8fc8d0",
   "metadata": {},
   "outputs": [
    {
     "name": "stdout",
     "output_type": "stream",
     "text": [
      "Some Interesting Patterns\n",
      "-------------------------\n",
      "Crops which require very high ratio of Nitrogen content in soil:  ['cotton']\n",
      "Crops which require very high ratio of Phosphorous content in soil:  ['grapes' 'apple']\n",
      "Crops which require very high ratio of Potassium content in the soil:  ['grapes' 'apple']\n",
      "Crops which require very high ratio of Rainfall:  ['rice' 'papaya' 'coconut']\n",
      "Crops which require very low temperature:  ['grapes']\n",
      "Crops which require very high temperature:  ['grapes' 'papaya']\n",
      "Crops which require very low humidity:  ['chickpea' 'kidneybeans']\n",
      "Crops which require very high humidity:  ['pomegranate' 'muskmelon' 'apple' 'orange' 'papaya' 'coconut']\n",
      "Crops which require very low ph:  ['mothbeans']\n",
      "Crops which require very high ph:  ['mothbeans']\n"
     ]
    }
   ],
   "source": [
    "print(\"Some Interesting Patterns\")\n",
    "print(\"-------------------------\")\n",
    "print(\"Crops which require very high ratio of Nitrogen content in soil: \",data[data['N']>120]['label'].unique())\n",
    "print(\"Crops which require very high ratio of Phosphorous content in soil: \",data[data['P']>100]['label'].unique())\n",
    "print(\"Crops which require very high ratio of Potassium content in the soil: \",data[data['K']>200]['label'].unique())\n",
    "print(\"Crops which require very high ratio of Rainfall: \",data[data['rainfall']>200]['label'].unique())\n",
    "print(\"Crops which require very low temperature: \",data[data['temperature']<10]['label'].unique())\n",
    "print(\"Crops which require very high temperature: \",data[data['temperature']>40]['label'].unique())\n",
    "print(\"Crops which require very low humidity: \",data[data['humidity']<20]['label'].unique())\n",
    "print(\"Crops which require very high humidity: \",data[data['humidity']>90]['label'].unique())\n",
    "print(\"Crops which require very low ph: \",data[data['ph']<4]['label'].unique())\n",
    "print(\"Crops which require very high ph: \",data[data['ph']>9]['label'].unique())"
   ]
  },
  {
   "cell_type": "code",
   "execution_count": 16,
   "id": "ec67f781",
   "metadata": {},
   "outputs": [
    {
     "name": "stdout",
     "output_type": "stream",
     "text": [
      "Summer Crops : \n",
      "['pigeonpeas' 'mothbeans' 'blackgram' 'mango' 'grapes' 'orange' 'papaya']\n",
      "----------------\n",
      "Winter Crops : \n",
      "['maize' 'pigeonpeas' 'lentil' 'pomegranate' 'grapes' 'orange']\n",
      "----------------\n",
      "Rainy Crops : \n",
      "['rice' 'papaya' 'coconut']\n"
     ]
    }
   ],
   "source": [
    "# lets understand which crops can only be grown in summer, winter and rainy seasons.\n",
    "\n",
    "print(\"Summer Crops : \")\n",
    "print(data[(data['temperature']>30) & (data['humidity']>50)]['label'].unique())\n",
    "print(\"----------------\")\n",
    "print(\"Winter Crops : \")\n",
    "print(data[(data['temperature']<20) & (data['humidity']>30)]['label'].unique())\n",
    "print(\"----------------\")\n",
    "print(\"Rainy Crops : \")\n",
    "print(data[(data['rainfall']>200) & (data['humidity']>30)]['label'].unique())"
   ]
  },
  {
   "cell_type": "markdown",
   "id": "2d05eae2",
   "metadata": {},
   "source": [
    "## Clustering Analysis"
   ]
  },
  {
   "cell_type": "code",
   "execution_count": 32,
   "id": "34e9b553",
   "metadata": {},
   "outputs": [
    {
     "data": {
      "text/plain": [
       "(2200, 7)"
      ]
     },
     "execution_count": 32,
     "metadata": {},
     "output_type": "execute_result"
    }
   ],
   "source": [
    "from sklearn.cluster import KMeans\n",
    "\n",
    "#removing labels\n",
    "x = data.drop(['label'],axis=1)\n",
    "\n",
    "#selecting all the values of the data\n",
    "x=x.values\n",
    "\n",
    "#shape of the data\n",
    "x.shape"
   ]
  },
  {
   "cell_type": "code",
   "execution_count": 39,
   "id": "a68f0bf1",
   "metadata": {},
   "outputs": [
    {
     "data": {
      "image/png": "[encoded data removed]",
      "text/plain": [
       "<Figure size 720x360 with 1 Axes>"
      ]
     },
     "metadata": {
      "needs_background": "light"
     },
     "output_type": "display_data"
    }
   ],
   "source": [
    "# to find optimum number of clusters in the dataset\n",
    "\n",
    "plt.rcParams['figure.figsize']=(10,5)\n",
    "\n",
    "wcss=[]\n",
    "for i in range(1,11):\n",
    "    km=KMeans(n_clusters=i,init='k-means++',max_iter=300,n_init=10,random_state=0)\n",
    "    km.fit(x)\n",
    "    wcss.append(km.inertia_)\n",
    "\n",
    "    \n",
    "# now we plot the results\n",
    "\n",
    "plt.plot(range(1,11),wcss)\n",
    "plt.title(\"Elbow Method\",fontsize=20)\n",
    "plt.xlabel(\"No. of Clusters\")\n",
    "plt.ylabel(\"Inertia\")\n",
    "plt.show()\n",
    "\n",
    "\n",
    "# In this case we take the last one i.e 4"
   ]
  },
  {
   "cell_type": "code",
   "execution_count": 50,
   "id": "51db2357",
   "metadata": {},
   "outputs": [
    {
     "name": "stdout",
     "output_type": "stream",
     "text": [
      "Crops in the first cluster :  ['maize' 'chickpea' 'kidneybeans' 'pigeonpeas' 'mothbeans' 'mungbean'\n",
      " 'blackgram' 'lentil' 'pomegranate' 'mango' 'orange' 'papaya' 'coconut']\n",
      "------------------------------------------------------------\n",
      "Crops in the second cluster :  ['maize' 'banana' 'watermelon' 'muskmelon' 'papaya' 'cotton' 'coffee']\n",
      "------------------------------------------------------------\n",
      "Crops in the third cluster :  ['grapes' 'apple']\n",
      "------------------------------------------------------------\n",
      "Crops in the forth cluster :  ['rice' 'pigeonpeas' 'papaya' 'coconut' 'jute' 'coffee']\n"
     ]
    }
   ],
   "source": [
    "# let's implement the kmeans algorithm to perform clustering analysis\n",
    "\n",
    "km=KMeans(n_clusters=4,init='k-means++',max_iter=300,n_init=10,random_state=0)\n",
    "y_means=km.fit_predict(x)\n",
    "\n",
    "\n",
    "#let's find out the result\n",
    "\n",
    "a=data['label']\n",
    "y_means=pd.DataFrame(y_means)\n",
    "z=pd.concat([y_means,a],axis=1)\n",
    "z=z.rename(columns={0:\"Clusters\"})\n",
    "\n",
    "# lets check the cluster of each crop\n",
    "\n",
    "print(\"Crops in the first cluster : \",z[z['Clusters']==0]['label'].unique())\n",
    "print(\"------------------------------------------------------------\")\n",
    "print(\"Crops in the second cluster : \",z[z['Clusters']==1]['label'].unique())\n",
    "print(\"------------------------------------------------------------\")\n",
    "print(\"Crops in the third cluster : \",z[z['Clusters']==2]['label'].unique())\n",
    "print(\"------------------------------------------------------------\")\n",
    "print(\"Crops in the forth cluster : \",z[z['Clusters']==3]['label'].unique())"
   ]
  },
  {
   "cell_type": "code",
   "execution_count": 55,
   "id": "bc5a757e",
   "metadata": {},
   "outputs": [
    {
     "name": "stdout",
     "output_type": "stream",
     "text": [
      "Shape of x :  (2200, 7)\n",
      "Sahpe of y :  (2200,)\n"
     ]
    }
   ],
   "source": [
    "# split the dataset for predictive modelling\n",
    "\n",
    "y=data['label']\n",
    "x=data.drop('label',axis=1)\n",
    "\n",
    "print(\"Shape of x : \",x.shape)\n",
    "print(\"Sahpe of y : \",y.shape)"
   ]
  },
  {
   "cell_type": "code",
   "execution_count": 65,
   "id": "3b27e6b4",
   "metadata": {},
   "outputs": [
    {
     "name": "stdout",
     "output_type": "stream",
     "text": [
      "Shape of x trian :  (1760, 7)\n",
      "Shape of x test :  (440, 7)\n",
      "Shape of y train :  (1760,)\n",
      "Shape of y test :  (440,)\n"
     ]
    }
   ],
   "source": [
    "# creatin testing and training sets for validation of resluts\n",
    "\n",
    "from sklearn.model_selection import train_test_split\n",
    "x_train,x_test,y_train,y_test=train_test_split(x,y,test_size=0.2,random_state=0)\n",
    "\n",
    "print(\"Shape of x trian : \",x_train.shape)\n",
    "print(\"Shape of x test : \",x_test.shape)\n",
    "print(\"Shape of y train : \",y_train.shape)\n",
    "print(\"Shape of y test : \",y_test.shape)"
   ]
  },
  {
   "cell_type": "code",
   "execution_count": 67,
   "id": "9257e10f",
   "metadata": {},
   "outputs": [
    {
     "name": "stderr",
     "output_type": "stream",
     "text": [
      "C:\\Users\\umair\\anaconda3\\envs\\homework_env\\lib\\site-packages\\sklearn\\linear_model\\_logistic.py:814: ConvergenceWarning: lbfgs failed to converge (status=1):\n",
      "STOP: TOTAL NO. of ITERATIONS REACHED LIMIT.\n",
      "\n",
      "Increase the number of iterations (max_iter) or scale the data as shown in:\n",
      "    https://scikit-learn.org/stable/modules/preprocessing.html\n",
      "Please also refer to the documentation for alternative solver options:\n",
      "    https://scikit-learn.org/stable/modules/linear_model.html#logistic-regression\n",
      "  n_iter_i = _check_optimize_result(\n"
     ]
    }
   ],
   "source": [
    "# lets create a predictive model\n",
    "\n",
    "from sklearn.linear_model import LogisticRegression\n",
    "\n",
    "model=LogisticRegression()\n",
    "model.fit(x_train,y_train)\n",
    "y_pred=model.predict(x_test)\n"
   ]
  },
  {
   "cell_type": "code",
   "execution_count": 75,
   "id": "9f001994",
   "metadata": {},
   "outputs": [
    {
     "data": {
      "image/png": "[encoded data removed]",
      "text/plain": [
       "<Figure size 720x720 with 2 Axes>"
      ]
     },
     "metadata": {
      "needs_background": "light"
     },
     "output_type": "display_data"
    }
   ],
   "source": [
    "# lets evaluate the model performance\n",
    "\n",
    "from sklearn.metrics import confusion_matrix,classification_report\n",
    "\n",
    "\n",
    "# now we print the confusion matrix\n",
    "\n",
    "plt.rcParams['figure.figsize']=(10,10)\n",
    "cm=confusion_matrix(y_test,y_pred)\n",
    "sns.heatmap(cm,annot=True,cmap='Wistia')\n",
    "plt.title(\"Confusion Matrix For Logistic Regression\")\n",
    "plt.show()"
   ]
  },
  {
   "cell_type": "code",
   "execution_count": 77,
   "id": "8af6d71f",
   "metadata": {},
   "outputs": [
    {
     "name": "stdout",
     "output_type": "stream",
     "text": [
      "              precision    recall  f1-score   support\n",
      "\n",
      "       apple       1.00      1.00      1.00        18\n",
      "      banana       1.00      1.00      1.00        18\n",
      "   blackgram       0.86      0.82      0.84        22\n",
      "    chickpea       1.00      1.00      1.00        23\n",
      "     coconut       1.00      1.00      1.00        15\n",
      "      coffee       1.00      1.00      1.00        17\n",
      "      cotton       0.89      1.00      0.94        16\n",
      "      grapes       1.00      1.00      1.00        18\n",
      "        jute       0.84      1.00      0.91        21\n",
      " kidneybeans       1.00      1.00      1.00        20\n",
      "      lentil       0.94      0.94      0.94        17\n",
      "       maize       0.94      0.89      0.91        18\n",
      "       mango       1.00      1.00      1.00        21\n",
      "   mothbeans       0.88      0.92      0.90        25\n",
      "    mungbean       1.00      1.00      1.00        17\n",
      "   muskmelon       1.00      1.00      1.00        23\n",
      "      orange       1.00      1.00      1.00        23\n",
      "      papaya       1.00      0.95      0.98        21\n",
      "  pigeonpeas       1.00      1.00      1.00        22\n",
      " pomegranate       1.00      1.00      1.00        23\n",
      "        rice       1.00      0.84      0.91        25\n",
      "  watermelon       1.00      1.00      1.00        17\n",
      "\n",
      "    accuracy                           0.97       440\n",
      "   macro avg       0.97      0.97      0.97       440\n",
      "weighted avg       0.97      0.97      0.97       440\n",
      "\n"
     ]
    }
   ],
   "source": [
    "# now we print the classification report\n",
    "\n",
    "cr=classification_report(y_test,y_pred)\n",
    "print(cr)"
   ]
  },
  {
   "cell_type": "code",
   "execution_count": 78,
   "id": "af60d764",
   "metadata": {},
   "outputs": [
    {
     "data": {
      "text/html": [
       "<div>\n",
       "<style scoped>\n",
       "    .dataframe tbody tr th:only-of-type {\n",
       "        vertical-align: middle;\n",
       "    }\n",
       "\n",
       "    .dataframe tbody tr th {\n",
       "        vertical-align: top;\n",
       "    }\n",
       "\n",
       "    .dataframe thead th {\n",
       "        text-align: right;\n",
       "    }\n",
       "</style>\n",
       "<table border=\"1\" class=\"dataframe\">\n",
       "  <thead>\n",
       "    <tr style=\"text-align: right;\">\n",
       "      <th></th>\n",
       "      <th>N</th>\n",
       "      <th>P</th>\n",
       "      <th>K</th>\n",
       "      <th>temperature</th>\n",
       "      <th>humidity</th>\n",
       "      <th>ph</th>\n",
       "      <th>rainfall</th>\n",
       "      <th>label</th>\n",
       "    </tr>\n",
       "  </thead>\n",
       "  <tbody>\n",
       "    <tr>\n",
       "      <th>0</th>\n",
       "      <td>90</td>\n",
       "      <td>42</td>\n",
       "      <td>43</td>\n",
       "      <td>20.879744</td>\n",
       "      <td>82.002744</td>\n",
       "      <td>6.502985</td>\n",
       "      <td>202.935536</td>\n",
       "      <td>rice</td>\n",
       "    </tr>\n",
       "    <tr>\n",
       "      <th>1</th>\n",
       "      <td>85</td>\n",
       "      <td>58</td>\n",
       "      <td>41</td>\n",
       "      <td>21.770462</td>\n",
       "      <td>80.319644</td>\n",
       "      <td>7.038096</td>\n",
       "      <td>226.655537</td>\n",
       "      <td>rice</td>\n",
       "    </tr>\n",
       "    <tr>\n",
       "      <th>2</th>\n",
       "      <td>60</td>\n",
       "      <td>55</td>\n",
       "      <td>44</td>\n",
       "      <td>23.004459</td>\n",
       "      <td>82.320763</td>\n",
       "      <td>7.840207</td>\n",
       "      <td>263.964248</td>\n",
       "      <td>rice</td>\n",
       "    </tr>\n",
       "    <tr>\n",
       "      <th>3</th>\n",
       "      <td>74</td>\n",
       "      <td>35</td>\n",
       "      <td>40</td>\n",
       "      <td>26.491096</td>\n",
       "      <td>80.158363</td>\n",
       "      <td>6.980401</td>\n",
       "      <td>242.864034</td>\n",
       "      <td>rice</td>\n",
       "    </tr>\n",
       "    <tr>\n",
       "      <th>4</th>\n",
       "      <td>78</td>\n",
       "      <td>42</td>\n",
       "      <td>42</td>\n",
       "      <td>20.130175</td>\n",
       "      <td>81.604873</td>\n",
       "      <td>7.628473</td>\n",
       "      <td>262.717340</td>\n",
       "      <td>rice</td>\n",
       "    </tr>\n",
       "  </tbody>\n",
       "</table>\n",
       "</div>"
      ],
      "text/plain": [
       "    N   P   K  temperature   humidity        ph    rainfall label\n",
       "0  90  42  43    20.879744  82.002744  6.502985  202.935536  rice\n",
       "1  85  58  41    21.770462  80.319644  7.038096  226.655537  rice\n",
       "2  60  55  44    23.004459  82.320763  7.840207  263.964248  rice\n",
       "3  74  35  40    26.491096  80.158363  6.980401  242.864034  rice\n",
       "4  78  42  42    20.130175  81.604873  7.628473  262.717340  rice"
      ]
     },
     "execution_count": 78,
     "metadata": {},
     "output_type": "execute_result"
    }
   ],
   "source": [
    "data.head()"
   ]
  },
  {
   "cell_type": "code",
   "execution_count": 82,
   "id": "c6434d78",
   "metadata": {},
   "outputs": [
    {
     "name": "stderr",
     "output_type": "stream",
     "text": [
      "C:\\Users\\umair\\anaconda3\\envs\\homework_env\\lib\\site-packages\\sklearn\\base.py:441: UserWarning: X does not have valid feature names, but LogisticRegression was fitted with feature names\n",
      "  warnings.warn(\n"
     ]
    }
   ],
   "source": [
    "prediction=model.predict((np.array([[90,40,40,20,80,6.5,200]])))"
   ]
  },
  {
   "cell_type": "code",
   "execution_count": 83,
   "id": "7d3fff83",
   "metadata": {},
   "outputs": [
    {
     "name": "stdout",
     "output_type": "stream",
     "text": [
      "The suggested crop for given climate condition is :  ['rice']\n"
     ]
    }
   ],
   "source": [
    "print(\"The suggested crop for given climate condition is : \",prediction)"
   ]
  },
  {
   "cell_type": "code",
   "execution_count": null,
   "id": "fd066e3b",
   "metadata": {},
   "outputs": [],
   "source": []
  }
 ],
 "metadata": {
  "kernelspec": {
   "display_name": "Python 3 (ipykernel)",
   "language": "python",
   "name": "python3"
  },
  "language_info": {
   "codemirror_mode": {
    "name": "ipython",
    "version": 3
   },
   "file_extension": ".py",
   "mimetype": "text/x-python",
   "name": "python",
   "nbconvert_exporter": "python",
   "pygments_lexer": "ipython3",
   "version": "3.9.7"
  }
 },
 "nbformat": 4,
 "nbformat_minor": 5
}
